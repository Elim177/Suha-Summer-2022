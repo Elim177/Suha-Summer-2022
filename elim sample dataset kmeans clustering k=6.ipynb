{
 "cells": [
  {
   "cell_type": "code",
   "execution_count": 45,
   "id": "76bc7219",
   "metadata": {},
   "outputs": [],
   "source": [
    "from sklearn.cluster import KMeans\n",
    "import pandas as pd\n",
    "from sklearn.preprocessing import MinMaxScaler\n",
    "from matplotlib import pyplot as plt\n",
    "%matplotlib inline"
   ]
  },
  {
   "cell_type": "code",
   "execution_count": 46,
   "id": "7648679a",
   "metadata": {},
   "outputs": [
    {
     "data": {
      "text/html": [
       "<div>\n",
       "<style scoped>\n",
       "    .dataframe tbody tr th:only-of-type {\n",
       "        vertical-align: middle;\n",
       "    }\n",
       "\n",
       "    .dataframe tbody tr th {\n",
       "        vertical-align: top;\n",
       "    }\n",
       "\n",
       "    .dataframe thead th {\n",
       "        text-align: right;\n",
       "    }\n",
       "</style>\n",
       "<table border=\"1\" class=\"dataframe\">\n",
       "  <thead>\n",
       "    <tr style=\"text-align: right;\">\n",
       "      <th></th>\n",
       "      <th>Id</th>\n",
       "      <th>Reputation</th>\n",
       "      <th>TagScore</th>\n",
       "      <th>DisplayName</th>\n",
       "      <th>UpVotes</th>\n",
       "      <th>DownVotes</th>\n",
       "      <th>Views</th>\n",
       "      <th>AccountId</th>\n",
       "    </tr>\n",
       "  </thead>\n",
       "  <tbody>\n",
       "    <tr>\n",
       "      <th>0</th>\n",
       "      <td>27122</td>\n",
       "      <td>8398</td>\n",
       "      <td>4</td>\n",
       "      <td>dpq</td>\n",
       "      <td>331</td>\n",
       "      <td>9</td>\n",
       "      <td>424</td>\n",
       "      <td>13486</td>\n",
       "    </tr>\n",
       "    <tr>\n",
       "      <th>1</th>\n",
       "      <td>8563092</td>\n",
       "      <td>227</td>\n",
       "      <td>3</td>\n",
       "      <td>TheCrystalShip</td>\n",
       "      <td>68</td>\n",
       "      <td>0</td>\n",
       "      <td>37</td>\n",
       "      <td>11696544</td>\n",
       "    </tr>\n",
       "    <tr>\n",
       "      <th>2</th>\n",
       "      <td>2996348</td>\n",
       "      <td>13</td>\n",
       "      <td>-4</td>\n",
       "      <td>user2996348</td>\n",
       "      <td>0</td>\n",
       "      <td>0</td>\n",
       "      <td>2</td>\n",
       "      <td>3590073</td>\n",
       "    </tr>\n",
       "    <tr>\n",
       "      <th>3</th>\n",
       "      <td>175960</td>\n",
       "      <td>3757</td>\n",
       "      <td>29</td>\n",
       "      <td>Verrtex</td>\n",
       "      <td>24</td>\n",
       "      <td>0</td>\n",
       "      <td>113</td>\n",
       "      <td>879746</td>\n",
       "    </tr>\n",
       "    <tr>\n",
       "      <th>4</th>\n",
       "      <td>12682654</td>\n",
       "      <td>17</td>\n",
       "      <td>1</td>\n",
       "      <td>ChronicleEdge</td>\n",
       "      <td>3</td>\n",
       "      <td>0</td>\n",
       "      <td>10</td>\n",
       "      <td>17490376</td>\n",
       "    </tr>\n",
       "  </tbody>\n",
       "</table>\n",
       "</div>"
      ],
      "text/plain": [
       "         Id  Reputation  TagScore     DisplayName  UpVotes  DownVotes  Views  \\\n",
       "0     27122        8398         4             dpq      331          9    424   \n",
       "1   8563092         227         3  TheCrystalShip       68          0     37   \n",
       "2   2996348          13        -4     user2996348        0          0      2   \n",
       "3    175960        3757        29         Verrtex       24          0    113   \n",
       "4  12682654          17         1   ChronicleEdge        3          0     10   \n",
       "\n",
       "   AccountId  \n",
       "0      13486  \n",
       "1   11696544  \n",
       "2    3590073  \n",
       "3     879746  \n",
       "4   17490376  "
      ]
     },
     "execution_count": 46,
     "metadata": {},
     "output_type": "execute_result"
    }
   ],
   "source": [
    "df = pd.read_csv(\"usersPython_Sample_Edited.csv\")\n",
    "df.head()"
   ]
  },
  {
   "cell_type": "code",
   "execution_count": 47,
   "id": "e81434ad",
   "metadata": {},
   "outputs": [
    {
     "data": {
      "text/plain": [
       "<matplotlib.collections.PathCollection at 0x17d52597670>"
      ]
     },
     "execution_count": 47,
     "metadata": {},
     "output_type": "execute_result"
    },
    {
     "data": {
      "image/png": "[encoded data removed]",
      "text/plain": [
       "<Figure size 432x288 with 1 Axes>"
      ]
     },
     "metadata": {
      "needs_background": "light"
     },
     "output_type": "display_data"
    }
   ],
   "source": [
    "plt.scatter(df['UpVotes'], df['DownVotes'])"
   ]
  },
  {
   "cell_type": "code",
   "execution_count": 48,
   "id": "7ba06196",
   "metadata": {},
   "outputs": [
    {
     "data": {
      "text/html": [
       "<style>#sk-container-id-6 {color: black;background-color: white;}#sk-container-id-6 pre{padding: 0;}#sk-container-id-6 div.sk-toggleable {background-color: white;}#sk-container-id-6 label.sk-toggleable__label {cursor: pointer;display: block;width: 100%;margin-bottom: 0;padding: 0.3em;box-sizing: border-box;text-align: center;}#sk-container-id-6 label.sk-toggleable__label-arrow:before {content: \"▸\";float: left;margin-right: 0.25em;color: #696969;}#sk-container-id-6 label.sk-toggleable__label-arrow:hover:before {color: black;}#sk-container-id-6 div.sk-estimator:hover label.sk-toggleable__label-arrow:before {color: black;}#sk-container-id-6 div.sk-toggleable__content {max-height: 0;max-width: 0;overflow: hidden;text-align: left;background-color: #f0f8ff;}#sk-container-id-6 div.sk-toggleable__content pre {margin: 0.2em;color: black;border-radius: 0.25em;background-color: #f0f8ff;}#sk-container-id-6 input.sk-toggleable__control:checked~div.sk-toggleable__content {max-height: 200px;max-width: 100%;overflow: auto;}#sk-container-id-6 input.sk-toggleable__control:checked~label.sk-toggleable__label-arrow:before {content: \"▾\";}#sk-container-id-6 div.sk-estimator input.sk-toggleable__control:checked~label.sk-toggleable__label {background-color: #d4ebff;}#sk-container-id-6 div.sk-label input.sk-toggleable__control:checked~label.sk-toggleable__label {background-color: #d4ebff;}#sk-container-id-6 input.sk-hidden--visually {border: 0;clip: rect(1px 1px 1px 1px);clip: rect(1px, 1px, 1px, 1px);height: 1px;margin: -1px;overflow: hidden;padding: 0;position: absolute;width: 1px;}#sk-container-id-6 div.sk-estimator {font-family: monospace;background-color: #f0f8ff;border: 1px dotted black;border-radius: 0.25em;box-sizing: border-box;margin-bottom: 0.5em;}#sk-container-id-6 div.sk-estimator:hover {background-color: #d4ebff;}#sk-container-id-6 div.sk-parallel-item::after {content: \"\";width: 100%;border-bottom: 1px solid gray;flex-grow: 1;}#sk-container-id-6 div.sk-label:hover label.sk-toggleable__label {background-color: #d4ebff;}#sk-container-id-6 div.sk-serial::before {content: \"\";position: absolute;border-left: 1px solid gray;box-sizing: border-box;top: 0;bottom: 0;left: 50%;z-index: 0;}#sk-container-id-6 div.sk-serial {display: flex;flex-direction: column;align-items: center;background-color: white;padding-right: 0.2em;padding-left: 0.2em;position: relative;}#sk-container-id-6 div.sk-item {position: relative;z-index: 1;}#sk-container-id-6 div.sk-parallel {display: flex;align-items: stretch;justify-content: center;background-color: white;position: relative;}#sk-container-id-6 div.sk-item::before, #sk-container-id-6 div.sk-parallel-item::before {content: \"\";position: absolute;border-left: 1px solid gray;box-sizing: border-box;top: 0;bottom: 0;left: 50%;z-index: -1;}#sk-container-id-6 div.sk-parallel-item {display: flex;flex-direction: column;z-index: 1;position: relative;background-color: white;}#sk-container-id-6 div.sk-parallel-item:first-child::after {align-self: flex-end;width: 50%;}#sk-container-id-6 div.sk-parallel-item:last-child::after {align-self: flex-start;width: 50%;}#sk-container-id-6 div.sk-parallel-item:only-child::after {width: 0;}#sk-container-id-6 div.sk-dashed-wrapped {border: 1px dashed gray;margin: 0 0.4em 0.5em 0.4em;box-sizing: border-box;padding-bottom: 0.4em;background-color: white;}#sk-container-id-6 div.sk-label label {font-family: monospace;font-weight: bold;display: inline-block;line-height: 1.2em;}#sk-container-id-6 div.sk-label-container {text-align: center;}#sk-container-id-6 div.sk-container {/* jupyter's `normalize.less` sets `[hidden] { display: none; }` but bootstrap.min.css set `[hidden] { display: none !important; }` so we also need the `!important` here to be able to override the default hidden behavior on the sphinx rendered scikit-learn.org. See: https://github.com/scikit-learn/scikit-learn/issues/21755 */display: inline-block !important;position: relative;}#sk-container-id-6 div.sk-text-repr-fallback {display: none;}</style><div id=\"sk-container-id-6\" class=\"sk-top-container\"><div class=\"sk-text-repr-fallback\"><pre>KMeans(n_clusters=6)</pre><b>In a Jupyter environment, please rerun this cell to show the HTML representation or trust the notebook. <br />On GitHub, the HTML representation is unable to render, please try loading this page with nbviewer.org.</b></div><div class=\"sk-container\" hidden><div class=\"sk-item\"><div class=\"sk-estimator sk-toggleable\"><input class=\"sk-toggleable__control sk-hidden--visually\" id=\"sk-estimator-id-6\" type=\"checkbox\" checked><label for=\"sk-estimator-id-6\" class=\"sk-toggleable__label sk-toggleable__label-arrow\">KMeans</label><div class=\"sk-toggleable__content\"><pre>KMeans(n_clusters=6)</pre></div></div></div></div></div>"
      ],
      "text/plain": [
       "KMeans(n_clusters=6)"
      ]
     },
     "execution_count": 48,
     "metadata": {},
     "output_type": "execute_result"
    }
   ],
   "source": [
    "km = KMeans(n_clusters=6)\n",
    "km"
   ]
  },
  {
   "cell_type": "code",
   "execution_count": 49,
   "id": "3b925256",
   "metadata": {},
   "outputs": [
    {
     "data": {
      "text/plain": [
       "array([0, 0, 0, ..., 0, 0, 0])"
      ]
     },
     "execution_count": 49,
     "metadata": {},
     "output_type": "execute_result"
    }
   ],
   "source": [
    "y_predicted = km.fit_predict(df[['UpVotes', 'DownVotes']])\n",
    "y_predicted"
   ]
  },
  {
   "cell_type": "code",
   "execution_count": 50,
   "id": "aaab7e42",
   "metadata": {},
   "outputs": [
    {
     "data": {
      "text/html": [
       "<div>\n",
       "<style scoped>\n",
       "    .dataframe tbody tr th:only-of-type {\n",
       "        vertical-align: middle;\n",
       "    }\n",
       "\n",
       "    .dataframe tbody tr th {\n",
       "        vertical-align: top;\n",
       "    }\n",
       "\n",
       "    .dataframe thead th {\n",
       "        text-align: right;\n",
       "    }\n",
       "</style>\n",
       "<table border=\"1\" class=\"dataframe\">\n",
       "  <thead>\n",
       "    <tr style=\"text-align: right;\">\n",
       "      <th></th>\n",
       "      <th>Id</th>\n",
       "      <th>Reputation</th>\n",
       "      <th>TagScore</th>\n",
       "      <th>DisplayName</th>\n",
       "      <th>UpVotes</th>\n",
       "      <th>DownVotes</th>\n",
       "      <th>Views</th>\n",
       "      <th>AccountId</th>\n",
       "      <th>cluster</th>\n",
       "    </tr>\n",
       "  </thead>\n",
       "  <tbody>\n",
       "    <tr>\n",
       "      <th>0</th>\n",
       "      <td>27122</td>\n",
       "      <td>8398</td>\n",
       "      <td>4</td>\n",
       "      <td>dpq</td>\n",
       "      <td>331</td>\n",
       "      <td>9</td>\n",
       "      <td>424</td>\n",
       "      <td>13486</td>\n",
       "      <td>0</td>\n",
       "    </tr>\n",
       "    <tr>\n",
       "      <th>1</th>\n",
       "      <td>8563092</td>\n",
       "      <td>227</td>\n",
       "      <td>3</td>\n",
       "      <td>TheCrystalShip</td>\n",
       "      <td>68</td>\n",
       "      <td>0</td>\n",
       "      <td>37</td>\n",
       "      <td>11696544</td>\n",
       "      <td>0</td>\n",
       "    </tr>\n",
       "    <tr>\n",
       "      <th>2</th>\n",
       "      <td>2996348</td>\n",
       "      <td>13</td>\n",
       "      <td>-4</td>\n",
       "      <td>user2996348</td>\n",
       "      <td>0</td>\n",
       "      <td>0</td>\n",
       "      <td>2</td>\n",
       "      <td>3590073</td>\n",
       "      <td>0</td>\n",
       "    </tr>\n",
       "    <tr>\n",
       "      <th>3</th>\n",
       "      <td>175960</td>\n",
       "      <td>3757</td>\n",
       "      <td>29</td>\n",
       "      <td>Verrtex</td>\n",
       "      <td>24</td>\n",
       "      <td>0</td>\n",
       "      <td>113</td>\n",
       "      <td>879746</td>\n",
       "      <td>0</td>\n",
       "    </tr>\n",
       "    <tr>\n",
       "      <th>4</th>\n",
       "      <td>12682654</td>\n",
       "      <td>17</td>\n",
       "      <td>1</td>\n",
       "      <td>ChronicleEdge</td>\n",
       "      <td>3</td>\n",
       "      <td>0</td>\n",
       "      <td>10</td>\n",
       "      <td>17490376</td>\n",
       "      <td>0</td>\n",
       "    </tr>\n",
       "  </tbody>\n",
       "</table>\n",
       "</div>"
      ],
      "text/plain": [
       "         Id  Reputation  TagScore     DisplayName  UpVotes  DownVotes  Views  \\\n",
       "0     27122        8398         4             dpq      331          9    424   \n",
       "1   8563092         227         3  TheCrystalShip       68          0     37   \n",
       "2   2996348          13        -4     user2996348        0          0      2   \n",
       "3    175960        3757        29         Verrtex       24          0    113   \n",
       "4  12682654          17         1   ChronicleEdge        3          0     10   \n",
       "\n",
       "   AccountId  cluster  \n",
       "0      13486        0  \n",
       "1   11696544        0  \n",
       "2    3590073        0  \n",
       "3     879746        0  \n",
       "4   17490376        0  "
      ]
     },
     "execution_count": 50,
     "metadata": {},
     "output_type": "execute_result"
    }
   ],
   "source": [
    "df['cluster'] = y_predicted\n",
    "df.head()"
   ]
  },
  {
   "cell_type": "code",
   "execution_count": 53,
   "id": "9e9ebce3",
   "metadata": {},
   "outputs": [
    {
     "data": {
      "text/plain": [
       "<matplotlib.legend.Legend at 0x17d523a2910>"
      ]
     },
     "execution_count": 53,
     "metadata": {},
     "output_type": "execute_result"
    },
    {
     "data": {
      "image/png": "[encoded data removed]",
      "text/plain": [
       "<Figure size 432x288 with 1 Axes>"
      ]
     },
     "metadata": {
      "needs_background": "light"
     },
     "output_type": "display_data"
    }
   ],
   "source": [
    "df1 = df[df.cluster==0]\n",
    "df2 = df[df.cluster==1]\n",
    "df3 = df[df.cluster==2]\n",
    "df4 = df[df.cluster==3]\n",
    "df5 = df[df.cluster==4]\n",
    "df6 = df[df.cluster==5]\n",
    "plt.scatter(df1['UpVotes'],df1['DownVotes'],color='green')\n",
    "plt.scatter(df2['UpVotes'],df2['DownVotes'],color='red')\n",
    "plt.scatter(df3['UpVotes'],df3['DownVotes'],color='orange')\n",
    "plt.scatter(df4['UpVotes'],df4['DownVotes'],color='yellow')\n",
    "plt.scatter(df5['UpVotes'],df5['DownVotes'],color='blue')\n",
    "plt.scatter(df6['UpVotes'],df6['DownVotes'],color='pink')\n",
    "plt.scatter(km.cluster_centers_[:,0],km.cluster_centers_[:,1],color='purple',marker='*',label='centroid')\n",
    "plt.xlabel('UpVotes')\n",
    "plt.ylabel('DownVotes')\n",
    "plt.legend()"
   ]
  },
  {
   "cell_type": "code",
   "execution_count": 54,
   "id": "c3269586",
   "metadata": {},
   "outputs": [],
   "source": [
    "scaler = MinMaxScaler()\n",
    "\n",
    "scaler.fit(df[['DownVotes']])\n",
    "df['DownVotes'] = scaler.transform(df[['DownVotes']])\n",
    "\n",
    "scaler.fit(df[['UpVotes']])\n",
    "df['UpVotes'] = scaler.transform(df[['UpVotes']])"
   ]
  },
  {
   "cell_type": "code",
   "execution_count": 55,
   "id": "0c30f9f6",
   "metadata": {},
   "outputs": [
    {
     "data": {
      "text/html": [
       "<div>\n",
       "<style scoped>\n",
       "    .dataframe tbody tr th:only-of-type {\n",
       "        vertical-align: middle;\n",
       "    }\n",
       "\n",
       "    .dataframe tbody tr th {\n",
       "        vertical-align: top;\n",
       "    }\n",
       "\n",
       "    .dataframe thead th {\n",
       "        text-align: right;\n",
       "    }\n",
       "</style>\n",
       "<table border=\"1\" class=\"dataframe\">\n",
       "  <thead>\n",
       "    <tr style=\"text-align: right;\">\n",
       "      <th></th>\n",
       "      <th>Id</th>\n",
       "      <th>Reputation</th>\n",
       "      <th>TagScore</th>\n",
       "      <th>DisplayName</th>\n",
       "      <th>UpVotes</th>\n",
       "      <th>DownVotes</th>\n",
       "      <th>Views</th>\n",
       "      <th>AccountId</th>\n",
       "      <th>cluster</th>\n",
       "    </tr>\n",
       "  </thead>\n",
       "  <tbody>\n",
       "    <tr>\n",
       "      <th>0</th>\n",
       "      <td>27122</td>\n",
       "      <td>8398</td>\n",
       "      <td>4</td>\n",
       "      <td>dpq</td>\n",
       "      <td>0.006492</td>\n",
       "      <td>0.00017</td>\n",
       "      <td>424</td>\n",
       "      <td>13486</td>\n",
       "      <td>0</td>\n",
       "    </tr>\n",
       "    <tr>\n",
       "      <th>1</th>\n",
       "      <td>8563092</td>\n",
       "      <td>227</td>\n",
       "      <td>3</td>\n",
       "      <td>TheCrystalShip</td>\n",
       "      <td>0.001334</td>\n",
       "      <td>0.00000</td>\n",
       "      <td>37</td>\n",
       "      <td>11696544</td>\n",
       "      <td>0</td>\n",
       "    </tr>\n",
       "    <tr>\n",
       "      <th>2</th>\n",
       "      <td>2996348</td>\n",
       "      <td>13</td>\n",
       "      <td>-4</td>\n",
       "      <td>user2996348</td>\n",
       "      <td>0.000000</td>\n",
       "      <td>0.00000</td>\n",
       "      <td>2</td>\n",
       "      <td>3590073</td>\n",
       "      <td>0</td>\n",
       "    </tr>\n",
       "    <tr>\n",
       "      <th>3</th>\n",
       "      <td>175960</td>\n",
       "      <td>3757</td>\n",
       "      <td>29</td>\n",
       "      <td>Verrtex</td>\n",
       "      <td>0.000471</td>\n",
       "      <td>0.00000</td>\n",
       "      <td>113</td>\n",
       "      <td>879746</td>\n",
       "      <td>0</td>\n",
       "    </tr>\n",
       "    <tr>\n",
       "      <th>4</th>\n",
       "      <td>12682654</td>\n",
       "      <td>17</td>\n",
       "      <td>1</td>\n",
       "      <td>ChronicleEdge</td>\n",
       "      <td>0.000059</td>\n",
       "      <td>0.00000</td>\n",
       "      <td>10</td>\n",
       "      <td>17490376</td>\n",
       "      <td>0</td>\n",
       "    </tr>\n",
       "  </tbody>\n",
       "</table>\n",
       "</div>"
      ],
      "text/plain": [
       "         Id  Reputation  TagScore     DisplayName   UpVotes  DownVotes  Views  \\\n",
       "0     27122        8398         4             dpq  0.006492    0.00017    424   \n",
       "1   8563092         227         3  TheCrystalShip  0.001334    0.00000     37   \n",
       "2   2996348          13        -4     user2996348  0.000000    0.00000      2   \n",
       "3    175960        3757        29         Verrtex  0.000471    0.00000    113   \n",
       "4  12682654          17         1   ChronicleEdge  0.000059    0.00000     10   \n",
       "\n",
       "   AccountId  cluster  \n",
       "0      13486        0  \n",
       "1   11696544        0  \n",
       "2    3590073        0  \n",
       "3     879746        0  \n",
       "4   17490376        0  "
      ]
     },
     "execution_count": 55,
     "metadata": {},
     "output_type": "execute_result"
    }
   ],
   "source": [
    "df.head()"
   ]
  },
  {
   "cell_type": "code",
   "execution_count": 56,
   "id": "32ec5dcf",
   "metadata": {},
   "outputs": [
    {
     "data": {
      "text/plain": [
       "<matplotlib.collections.PathCollection at 0x17d52ce4430>"
      ]
     },
     "execution_count": 56,
     "metadata": {},
     "output_type": "execute_result"
    },
    {
     "data": {
      "image/png": "[encoded data removed]",
      "text/plain": [
       "<Figure size 432x288 with 1 Axes>"
      ]
     },
     "metadata": {
      "needs_background": "light"
     },
     "output_type": "display_data"
    }
   ],
   "source": [
    "plt.scatter(df['UpVotes'],df['DownVotes'])"
   ]
  },
  {
   "cell_type": "code",
   "execution_count": 57,
   "id": "f668b712",
   "metadata": {},
   "outputs": [
    {
     "data": {
      "text/plain": [
       "array([0, 0, 0, ..., 0, 0, 0])"
      ]
     },
     "execution_count": 57,
     "metadata": {},
     "output_type": "execute_result"
    }
   ],
   "source": [
    "km = KMeans(n_clusters=6)\n",
    "y_predicted = km.fit_predict(df[['UpVotes','DownVotes']])\n",
    "y_predicted"
   ]
  },
  {
   "cell_type": "code",
   "execution_count": 58,
   "id": "a0442f74",
   "metadata": {},
   "outputs": [
    {
     "data": {
      "text/html": [
       "<div>\n",
       "<style scoped>\n",
       "    .dataframe tbody tr th:only-of-type {\n",
       "        vertical-align: middle;\n",
       "    }\n",
       "\n",
       "    .dataframe tbody tr th {\n",
       "        vertical-align: top;\n",
       "    }\n",
       "\n",
       "    .dataframe thead th {\n",
       "        text-align: right;\n",
       "    }\n",
       "</style>\n",
       "<table border=\"1\" class=\"dataframe\">\n",
       "  <thead>\n",
       "    <tr style=\"text-align: right;\">\n",
       "      <th></th>\n",
       "      <th>Id</th>\n",
       "      <th>Reputation</th>\n",
       "      <th>TagScore</th>\n",
       "      <th>DisplayName</th>\n",
       "      <th>UpVotes</th>\n",
       "      <th>DownVotes</th>\n",
       "      <th>Views</th>\n",
       "      <th>AccountId</th>\n",
       "      <th>cluster</th>\n",
       "    </tr>\n",
       "  </thead>\n",
       "  <tbody>\n",
       "    <tr>\n",
       "      <th>0</th>\n",
       "      <td>27122</td>\n",
       "      <td>8398</td>\n",
       "      <td>4</td>\n",
       "      <td>dpq</td>\n",
       "      <td>0.006492</td>\n",
       "      <td>0.00017</td>\n",
       "      <td>424</td>\n",
       "      <td>13486</td>\n",
       "      <td>0</td>\n",
       "    </tr>\n",
       "    <tr>\n",
       "      <th>1</th>\n",
       "      <td>8563092</td>\n",
       "      <td>227</td>\n",
       "      <td>3</td>\n",
       "      <td>TheCrystalShip</td>\n",
       "      <td>0.001334</td>\n",
       "      <td>0.00000</td>\n",
       "      <td>37</td>\n",
       "      <td>11696544</td>\n",
       "      <td>0</td>\n",
       "    </tr>\n",
       "    <tr>\n",
       "      <th>2</th>\n",
       "      <td>2996348</td>\n",
       "      <td>13</td>\n",
       "      <td>-4</td>\n",
       "      <td>user2996348</td>\n",
       "      <td>0.000000</td>\n",
       "      <td>0.00000</td>\n",
       "      <td>2</td>\n",
       "      <td>3590073</td>\n",
       "      <td>0</td>\n",
       "    </tr>\n",
       "    <tr>\n",
       "      <th>3</th>\n",
       "      <td>175960</td>\n",
       "      <td>3757</td>\n",
       "      <td>29</td>\n",
       "      <td>Verrtex</td>\n",
       "      <td>0.000471</td>\n",
       "      <td>0.00000</td>\n",
       "      <td>113</td>\n",
       "      <td>879746</td>\n",
       "      <td>0</td>\n",
       "    </tr>\n",
       "    <tr>\n",
       "      <th>4</th>\n",
       "      <td>12682654</td>\n",
       "      <td>17</td>\n",
       "      <td>1</td>\n",
       "      <td>ChronicleEdge</td>\n",
       "      <td>0.000059</td>\n",
       "      <td>0.00000</td>\n",
       "      <td>10</td>\n",
       "      <td>17490376</td>\n",
       "      <td>0</td>\n",
       "    </tr>\n",
       "  </tbody>\n",
       "</table>\n",
       "</div>"
      ],
      "text/plain": [
       "         Id  Reputation  TagScore     DisplayName   UpVotes  DownVotes  Views  \\\n",
       "0     27122        8398         4             dpq  0.006492    0.00017    424   \n",
       "1   8563092         227         3  TheCrystalShip  0.001334    0.00000     37   \n",
       "2   2996348          13        -4     user2996348  0.000000    0.00000      2   \n",
       "3    175960        3757        29         Verrtex  0.000471    0.00000    113   \n",
       "4  12682654          17         1   ChronicleEdge  0.000059    0.00000     10   \n",
       "\n",
       "   AccountId  cluster  \n",
       "0      13486        0  \n",
       "1   11696544        0  \n",
       "2    3590073        0  \n",
       "3     879746        0  \n",
       "4   17490376        0  "
      ]
     },
     "execution_count": 58,
     "metadata": {},
     "output_type": "execute_result"
    }
   ],
   "source": [
    "df['cluster']=y_predicted\n",
    "df.head()"
   ]
  },
  {
   "cell_type": "code",
   "execution_count": 59,
   "id": "1d0e9abe",
   "metadata": {},
   "outputs": [
    {
     "data": {
      "text/plain": [
       "array([[8.14081112e-04, 5.68597568e-05],\n",
       "       [7.61178215e-02, 5.96398616e-03],\n",
       "       [2.65500265e-01, 1.00000000e+00],\n",
       "       [2.32557967e-02, 2.23986215e-03],\n",
       "       [8.69940961e-01, 2.22998358e-02],\n",
       "       [2.27348510e-01, 6.64396614e-02]])"
      ]
     },
     "execution_count": 59,
     "metadata": {},
     "output_type": "execute_result"
    }
   ],
   "source": [
    "km.cluster_centers_"
   ]
  },
  {
   "cell_type": "code",
   "execution_count": 60,
   "id": "0670b6c4",
   "metadata": {},
   "outputs": [
    {
     "data": {
      "text/plain": [
       "<matplotlib.legend.Legend at 0x17d5244b370>"
      ]
     },
     "execution_count": 60,
     "metadata": {},
     "output_type": "execute_result"
    },
    {
     "data": {
      "image/png": "[encoded data removed]",
      "text/plain": [
       "<Figure size 432x288 with 1 Axes>"
      ]
     },
     "metadata": {
      "needs_background": "light"
     },
     "output_type": "display_data"
    }
   ],
   "source": [
    "df1 = df[df.cluster==0]\n",
    "df2 = df[df.cluster==1]\n",
    "df3 = df[df.cluster==2]\n",
    "df4 = df[df.cluster==3]\n",
    "df5 = df[df.cluster==4]\n",
    "df6 = df[df.cluster==5]\n",
    "plt.scatter(df1['UpVotes'],df1['DownVotes'],color='green')\n",
    "plt.scatter(df2['UpVotes'],df2['DownVotes'],color='red')\n",
    "plt.scatter(df3['UpVotes'],df3['DownVotes'],color='orange')\n",
    "plt.scatter(df4['UpVotes'],df4['DownVotes'],color='yellow')\n",
    "plt.scatter(df5['UpVotes'],df5['DownVotes'],color='blue')\n",
    "plt.scatter(df6['UpVotes'],df6['DownVotes'],color='pink')\n",
    "plt.scatter(km.cluster_centers_[:,0],km.cluster_centers_[:,1],color='purple',marker='*',label='centroid')\n",
    "plt.xlabel('UpVotes')\n",
    "plt.ylabel('DownVotes')\n",
    "plt.legend()"
   ]
  },
  {
   "cell_type": "code",
   "execution_count": 61,
   "id": "2b9d2246",
   "metadata": {},
   "outputs": [],
   "source": [
    "scaler = MinMaxScaler()\n",
    "\n",
    "scaler.fit(df[['UpVotes']])\n",
    "df['UpVotes'] = scaler.transform(df[['UpVotes']])\n",
    "\n",
    "scaler.fit(df[['DownVotes']])\n",
    "df['DownVotes'] = scaler.transform(df[['DownVotes']])"
   ]
  },
  {
   "cell_type": "code",
   "execution_count": 62,
   "id": "265582ee",
   "metadata": {},
   "outputs": [
    {
     "data": {
      "text/html": [
       "<div>\n",
       "<style scoped>\n",
       "    .dataframe tbody tr th:only-of-type {\n",
       "        vertical-align: middle;\n",
       "    }\n",
       "\n",
       "    .dataframe tbody tr th {\n",
       "        vertical-align: top;\n",
       "    }\n",
       "\n",
       "    .dataframe thead th {\n",
       "        text-align: right;\n",
       "    }\n",
       "</style>\n",
       "<table border=\"1\" class=\"dataframe\">\n",
       "  <thead>\n",
       "    <tr style=\"text-align: right;\">\n",
       "      <th></th>\n",
       "      <th>Id</th>\n",
       "      <th>Reputation</th>\n",
       "      <th>TagScore</th>\n",
       "      <th>DisplayName</th>\n",
       "      <th>UpVotes</th>\n",
       "      <th>DownVotes</th>\n",
       "      <th>Views</th>\n",
       "      <th>AccountId</th>\n",
       "      <th>cluster</th>\n",
       "    </tr>\n",
       "  </thead>\n",
       "  <tbody>\n",
       "    <tr>\n",
       "      <th>0</th>\n",
       "      <td>27122</td>\n",
       "      <td>8398</td>\n",
       "      <td>4</td>\n",
       "      <td>dpq</td>\n",
       "      <td>0.006492</td>\n",
       "      <td>0.00017</td>\n",
       "      <td>424</td>\n",
       "      <td>13486</td>\n",
       "      <td>0</td>\n",
       "    </tr>\n",
       "    <tr>\n",
       "      <th>1</th>\n",
       "      <td>8563092</td>\n",
       "      <td>227</td>\n",
       "      <td>3</td>\n",
       "      <td>TheCrystalShip</td>\n",
       "      <td>0.001334</td>\n",
       "      <td>0.00000</td>\n",
       "      <td>37</td>\n",
       "      <td>11696544</td>\n",
       "      <td>0</td>\n",
       "    </tr>\n",
       "    <tr>\n",
       "      <th>2</th>\n",
       "      <td>2996348</td>\n",
       "      <td>13</td>\n",
       "      <td>-4</td>\n",
       "      <td>user2996348</td>\n",
       "      <td>0.000000</td>\n",
       "      <td>0.00000</td>\n",
       "      <td>2</td>\n",
       "      <td>3590073</td>\n",
       "      <td>0</td>\n",
       "    </tr>\n",
       "    <tr>\n",
       "      <th>3</th>\n",
       "      <td>175960</td>\n",
       "      <td>3757</td>\n",
       "      <td>29</td>\n",
       "      <td>Verrtex</td>\n",
       "      <td>0.000471</td>\n",
       "      <td>0.00000</td>\n",
       "      <td>113</td>\n",
       "      <td>879746</td>\n",
       "      <td>0</td>\n",
       "    </tr>\n",
       "    <tr>\n",
       "      <th>4</th>\n",
       "      <td>12682654</td>\n",
       "      <td>17</td>\n",
       "      <td>1</td>\n",
       "      <td>ChronicleEdge</td>\n",
       "      <td>0.000059</td>\n",
       "      <td>0.00000</td>\n",
       "      <td>10</td>\n",
       "      <td>17490376</td>\n",
       "      <td>0</td>\n",
       "    </tr>\n",
       "  </tbody>\n",
       "</table>\n",
       "</div>"
      ],
      "text/plain": [
       "         Id  Reputation  TagScore     DisplayName   UpVotes  DownVotes  Views  \\\n",
       "0     27122        8398         4             dpq  0.006492    0.00017    424   \n",
       "1   8563092         227         3  TheCrystalShip  0.001334    0.00000     37   \n",
       "2   2996348          13        -4     user2996348  0.000000    0.00000      2   \n",
       "3    175960        3757        29         Verrtex  0.000471    0.00000    113   \n",
       "4  12682654          17         1   ChronicleEdge  0.000059    0.00000     10   \n",
       "\n",
       "   AccountId  cluster  \n",
       "0      13486        0  \n",
       "1   11696544        0  \n",
       "2    3590073        0  \n",
       "3     879746        0  \n",
       "4   17490376        0  "
      ]
     },
     "execution_count": 62,
     "metadata": {},
     "output_type": "execute_result"
    }
   ],
   "source": [
    "df.head()"
   ]
  },
  {
   "cell_type": "code",
   "execution_count": 63,
   "id": "4401a05e",
   "metadata": {},
   "outputs": [
    {
     "data": {
      "text/plain": [
       "<matplotlib.collections.PathCollection at 0x17d523330d0>"
      ]
     },
     "execution_count": 63,
     "metadata": {},
     "output_type": "execute_result"
    },
    {
     "data": {
      "image/png": "[encoded data removed]",
      "text/plain": [
       "<Figure size 432x288 with 1 Axes>"
      ]
     },
     "metadata": {
      "needs_background": "light"
     },
     "output_type": "display_data"
    }
   ],
   "source": [
    "plt.scatter(df1['UpVotes'],df1['DownVotes'])"
   ]
  },
  {
   "cell_type": "code",
   "execution_count": 64,
   "id": "0e2b3776",
   "metadata": {},
   "outputs": [
    {
     "data": {
      "text/plain": [
       "array([0, 0, 0, ..., 0, 0, 0])"
      ]
     },
     "execution_count": 64,
     "metadata": {},
     "output_type": "execute_result"
    }
   ],
   "source": [
    "km = KMeans(n_clusters=6)\n",
    "y_predicted = km.fit_predict(df[['UpVotes','DownVotes']])\n",
    "y_predicted"
   ]
  },
  {
   "cell_type": "code",
   "execution_count": 65,
   "id": "3cf0559e",
   "metadata": {},
   "outputs": [
    {
     "data": {
      "text/html": [
       "<div>\n",
       "<style scoped>\n",
       "    .dataframe tbody tr th:only-of-type {\n",
       "        vertical-align: middle;\n",
       "    }\n",
       "\n",
       "    .dataframe tbody tr th {\n",
       "        vertical-align: top;\n",
       "    }\n",
       "\n",
       "    .dataframe thead th {\n",
       "        text-align: right;\n",
       "    }\n",
       "</style>\n",
       "<table border=\"1\" class=\"dataframe\">\n",
       "  <thead>\n",
       "    <tr style=\"text-align: right;\">\n",
       "      <th></th>\n",
       "      <th>Id</th>\n",
       "      <th>Reputation</th>\n",
       "      <th>TagScore</th>\n",
       "      <th>DisplayName</th>\n",
       "      <th>UpVotes</th>\n",
       "      <th>DownVotes</th>\n",
       "      <th>Views</th>\n",
       "      <th>AccountId</th>\n",
       "      <th>cluster</th>\n",
       "    </tr>\n",
       "  </thead>\n",
       "  <tbody>\n",
       "    <tr>\n",
       "      <th>0</th>\n",
       "      <td>27122</td>\n",
       "      <td>8398</td>\n",
       "      <td>4</td>\n",
       "      <td>dpq</td>\n",
       "      <td>0.006492</td>\n",
       "      <td>0.00017</td>\n",
       "      <td>424</td>\n",
       "      <td>13486</td>\n",
       "      <td>0</td>\n",
       "    </tr>\n",
       "    <tr>\n",
       "      <th>1</th>\n",
       "      <td>8563092</td>\n",
       "      <td>227</td>\n",
       "      <td>3</td>\n",
       "      <td>TheCrystalShip</td>\n",
       "      <td>0.001334</td>\n",
       "      <td>0.00000</td>\n",
       "      <td>37</td>\n",
       "      <td>11696544</td>\n",
       "      <td>0</td>\n",
       "    </tr>\n",
       "    <tr>\n",
       "      <th>2</th>\n",
       "      <td>2996348</td>\n",
       "      <td>13</td>\n",
       "      <td>-4</td>\n",
       "      <td>user2996348</td>\n",
       "      <td>0.000000</td>\n",
       "      <td>0.00000</td>\n",
       "      <td>2</td>\n",
       "      <td>3590073</td>\n",
       "      <td>0</td>\n",
       "    </tr>\n",
       "    <tr>\n",
       "      <th>3</th>\n",
       "      <td>175960</td>\n",
       "      <td>3757</td>\n",
       "      <td>29</td>\n",
       "      <td>Verrtex</td>\n",
       "      <td>0.000471</td>\n",
       "      <td>0.00000</td>\n",
       "      <td>113</td>\n",
       "      <td>879746</td>\n",
       "      <td>0</td>\n",
       "    </tr>\n",
       "    <tr>\n",
       "      <th>4</th>\n",
       "      <td>12682654</td>\n",
       "      <td>17</td>\n",
       "      <td>1</td>\n",
       "      <td>ChronicleEdge</td>\n",
       "      <td>0.000059</td>\n",
       "      <td>0.00000</td>\n",
       "      <td>10</td>\n",
       "      <td>17490376</td>\n",
       "      <td>0</td>\n",
       "    </tr>\n",
       "  </tbody>\n",
       "</table>\n",
       "</div>"
      ],
      "text/plain": [
       "         Id  Reputation  TagScore     DisplayName   UpVotes  DownVotes  Views  \\\n",
       "0     27122        8398         4             dpq  0.006492    0.00017    424   \n",
       "1   8563092         227         3  TheCrystalShip  0.001334    0.00000     37   \n",
       "2   2996348          13        -4     user2996348  0.000000    0.00000      2   \n",
       "3    175960        3757        29         Verrtex  0.000471    0.00000    113   \n",
       "4  12682654          17         1   ChronicleEdge  0.000059    0.00000     10   \n",
       "\n",
       "   AccountId  cluster  \n",
       "0      13486        0  \n",
       "1   11696544        0  \n",
       "2    3590073        0  \n",
       "3     879746        0  \n",
       "4   17490376        0  "
      ]
     },
     "execution_count": 65,
     "metadata": {},
     "output_type": "execute_result"
    }
   ],
   "source": [
    "df['cluster']=y_predicted\n",
    "df.head()"
   ]
  },
  {
   "cell_type": "code",
   "execution_count": 66,
   "id": "bb8e2404",
   "metadata": {},
   "outputs": [
    {
     "data": {
      "text/plain": [
       "array([[8.14081112e-04, 5.68597568e-05],\n",
       "       [7.61178215e-02, 5.96398616e-03],\n",
       "       [8.69940961e-01, 2.22998358e-02],\n",
       "       [2.32557967e-02, 2.23986215e-03],\n",
       "       [2.27348510e-01, 6.64396614e-02],\n",
       "       [2.65500265e-01, 1.00000000e+00]])"
      ]
     },
     "execution_count": 66,
     "metadata": {},
     "output_type": "execute_result"
    }
   ],
   "source": [
    "km.cluster_centers_"
   ]
  },
  {
   "cell_type": "code",
   "execution_count": 67,
   "id": "8f8e8e97",
   "metadata": {},
   "outputs": [
    {
     "data": {
      "text/plain": [
       "<matplotlib.legend.Legend at 0x17d524f9220>"
      ]
     },
     "execution_count": 67,
     "metadata": {},
     "output_type": "execute_result"
    },
    {
     "data": {
      "image/png": "[encoded data removed]",
      "text/plain": [
       "<Figure size 432x288 with 1 Axes>"
      ]
     },
     "metadata": {
      "needs_background": "light"
     },
     "output_type": "display_data"
    }
   ],
   "source": [
    "df1 = df[df.cluster==0]\n",
    "df2 = df[df.cluster==1]\n",
    "df3 = df[df.cluster==2]\n",
    "df4 = df[df.cluster==3]\n",
    "df5 = df[df.cluster==4]\n",
    "df6 = df[df.cluster==5]\n",
    "plt.scatter(df1['UpVotes'],df1['DownVotes'],color='green')\n",
    "plt.scatter(df2['UpVotes'],df2['DownVotes'],color='red')\n",
    "plt.scatter(df3['UpVotes'],df3['DownVotes'],color='orange')\n",
    "plt.scatter(df4['UpVotes'],df4['DownVotes'],color='yellow')\n",
    "plt.scatter(df5['UpVotes'],df5['DownVotes'],color='blue')\n",
    "plt.scatter(df6['UpVotes'],df6['DownVotes'],color='pink')\n",
    "plt.scatter(km.cluster_centers_[:,0],km.cluster_centers_[:,1],color='purple',marker='*',label='centroid')\n",
    "plt.xlabel('UpVotes')\n",
    "plt.ylabel('DownVotes')\n",
    "plt.legend()"
   ]
  },
  {
   "cell_type": "code",
   "execution_count": 68,
   "id": "bba687f4",
   "metadata": {},
   "outputs": [],
   "source": [
    "sse = []\n",
    "k_rng = range(1,10)\n",
    "for k in k_rng:\n",
    "    km = KMeans(n_clusters=k)\n",
    "    km.fit(df[['UpVotes','DownVotes']])\n",
    "    sse.append(km.inertia_)"
   ]
  },
  {
   "cell_type": "code",
   "execution_count": 69,
   "id": "277bea64",
   "metadata": {},
   "outputs": [
    {
     "data": {
      "text/plain": [
       "[<matplotlib.lines.Line2D at 0x17d52556ca0>]"
      ]
     },
     "execution_count": 69,
     "metadata": {},
     "output_type": "execute_result"
    },
    {
     "data": {
      "image/png": "[encoded data removed]",
      "text/plain": [
       "<Figure size 432x288 with 1 Axes>"
      ]
     },
     "metadata": {
      "needs_background": "light"
     },
     "output_type": "display_data"
    }
   ],
   "source": [
    "plt.xlabel('K')\n",
    "plt.ylabel('Sum of squared error')\n",
    "plt.plot(k_rng,sse)"
   ]
  },
  {
   "cell_type": "code",
   "execution_count": null,
   "id": "fb62be6b",
   "metadata": {},
   "outputs": [],
   "source": []
  }
 ],
 "metadata": {
  "kernelspec": {
   "display_name": "Python 3 (ipykernel)",
   "language": "python",
   "name": "python3"
  },
  "language_info": {
   "codemirror_mode": {
    "name": "ipython",
    "version": 3
   },
   "file_extension": ".py",
   "mimetype": "text/x-python",
   "name": "python",
   "nbconvert_exporter": "python",
   "pygments_lexer": "ipython3",
   "version": "3.9.6"
  }
 },
 "nbformat": 4,
 "nbformat_minor": 5
}
